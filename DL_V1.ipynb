{
  "nbformat": 4,
  "nbformat_minor": 0,
  "metadata": {
    "colab": {
      "provenance": [],
      "authorship_tag": "ABX9TyPs8CaZbUitDshp6RNIuW9A",
      "include_colab_link": true
    },
    "kernelspec": {
      "name": "python3",
      "display_name": "Python 3"
    },
    "language_info": {
      "name": "python"
    }
  },
  "cells": [
    {
      "cell_type": "markdown",
      "metadata": {
        "id": "view-in-github",
        "colab_type": "text"
      },
      "source": [
        "<a href=\"https://colab.research.google.com/github/Just1919/Computer_Vision/blob/master/DL_V1.ipynb\" target=\"_parent\"><img src=\"https://colab.research.google.com/assets/colab-badge.svg\" alt=\"Open In Colab\"/></a>"
      ]
    },
    {
      "cell_type": "code",
      "execution_count": 4,
      "metadata": {
        "id": "PgqBGovQ5X51"
      },
      "outputs": [],
      "source": [
        "\n",
        "w0 = 0.9907079\n",
        "w1 = 1.0264927\n",
        "w2 = 0.01417504\n",
        "w3 = -0.8950311\n",
        "w4 = 0.88046944\n",
        "w5 = 0.7524377\n",
        "w6 = 0.794296\n",
        "w7 = 1.1687347\n",
        "w8 = 0.2406084\n",
        "# Biases\n",
        "b0 = -0.00070612\n",
        "b1 = -0.06846002\n",
        "b2 = -0.00055442\n",
        "b3 = -0.00000929\n",
        "def relu(x):\n",
        "  return max(0, x)\n",
        "def predict(x1, x2):\n",
        "  h1=(x1*w0)+(x2*w1)+b0\n",
        "  h2=(x1*w2)+(x2*w3)+b1\n",
        "  h3=(x1*w4)+(x2*w5)+b2\n",
        "  y = (relu(h1) * w6) + (relu(h2) * w7) + (relu(h3) * w8) + b3\n",
        "  return y"
      ]
    },
    {
      "cell_type": "code",
      "source": [
        "print(predict(2,2))"
      ],
      "metadata": {
        "colab": {
          "base_uri": "https://localhost:8080/"
        },
        "id": "AWpuKO2I5vlH",
        "outputId": "3319a6b5-14ac-4c31-fdaa-4a36f3e75137"
      },
      "execution_count": 5,
      "outputs": [
        {
          "output_type": "stream",
          "name": "stdout",
          "text": [
            "3.9895875277625037\n"
          ]
        }
      ]
    },
    {
      "cell_type": "code",
      "source": [],
      "metadata": {
        "id": "uv_GkAHl501G"
      },
      "execution_count": null,
      "outputs": []
    }
  ]
}